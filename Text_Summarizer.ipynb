{
  "nbformat": 4,
  "nbformat_minor": 0,
  "metadata": {
    "colab": {
      "name": "Text_Summarizer.ipynb",
      "provenance": [],
      "authorship_tag": "ABX9TyMR+GmBhg5WJ9Kr9F3kQEjc",
      "include_colab_link": true
    },
    "kernelspec": {
      "name": "python3",
      "display_name": "Python 3"
    }
  },
  "cells": [
    {
      "cell_type": "markdown",
      "metadata": {
        "id": "view-in-github",
        "colab_type": "text"
      },
      "source": [
        "<a href=\"https://colab.research.google.com/github/NationHealing/NLP/blob/master/Text_Summarizer.ipynb\" target=\"_parent\"><img src=\"https://colab.research.google.com/assets/colab-badge.svg\" alt=\"Open In Colab\"/></a>"
      ]
    },
    {
      "cell_type": "code",
      "metadata": {
        "id": "zk8mPCnNFdHm",
        "colab_type": "code",
        "colab": {}
      },
      "source": [
        "from nltk.corpus import stopwords\n",
        "from nltk.stem import PorterStemmer\n",
        "from nltk.tokenize import word_tokenize, sent_tokenize\n",
        "import nltk"
      ],
      "execution_count": 0,
      "outputs": []
    },
    {
      "cell_type": "code",
      "metadata": {
        "id": "qj5zlckwGm1D",
        "colab_type": "code",
        "outputId": "f8892877-d9b7-4db9-9749-a26020296bd7",
        "colab": {
          "base_uri": "https://localhost:8080/",
          "height": 68
        }
      },
      "source": [
        "nltk.download('stopwords')\n"
      ],
      "execution_count": 0,
      "outputs": [
        {
          "output_type": "stream",
          "text": [
            "[nltk_data] Downloading package stopwords to /root/nltk_data...\n",
            "[nltk_data]   Package stopwords is already up-to-date!\n"
          ],
          "name": "stdout"
        },
        {
          "output_type": "execute_result",
          "data": {
            "text/plain": [
              "True"
            ]
          },
          "metadata": {
            "tags": []
          },
          "execution_count": 26
        }
      ]
    },
    {
      "cell_type": "code",
      "metadata": {
        "id": "GsJXB7l3HbPY",
        "colab_type": "code",
        "outputId": "b98264f3-129c-4e35-a49d-1dfa8c530d1c",
        "colab": {
          "base_uri": "https://localhost:8080/",
          "height": 68
        }
      },
      "source": [
        "nltk.download('punkt')"
      ],
      "execution_count": 0,
      "outputs": [
        {
          "output_type": "stream",
          "text": [
            "[nltk_data] Downloading package punkt to /root/nltk_data...\n",
            "[nltk_data]   Package punkt is already up-to-date!\n"
          ],
          "name": "stdout"
        },
        {
          "output_type": "execute_result",
          "data": {
            "text/plain": [
              "True"
            ]
          },
          "metadata": {
            "tags": []
          },
          "execution_count": 27
        }
      ]
    },
    {
      "cell_type": "code",
      "metadata": {
        "id": "CEF0Nv_CFBc-",
        "colab_type": "code",
        "colab": {}
      },
      "source": [
        "def _create_frequency_table(text_string) -> dict:\n",
        "\n",
        "    stopWords = set(stopwords.words(\"english\"))\n",
        "    words = word_tokenize(text_string)\n",
        "    ps = PorterStemmer()\n",
        "\n",
        "    freqTable = dict()\n",
        "    for word in words:\n",
        "        word = ps.stem(word)\n",
        "        if word in stopWords:\n",
        "            continue\n",
        "        if word in freqTable:\n",
        "            freqTable[word] += 1\n",
        "        else:\n",
        "            freqTable[word] = 1\n",
        "\n",
        "    return freqTable"
      ],
      "execution_count": 0,
      "outputs": []
    },
    {
      "cell_type": "code",
      "metadata": {
        "id": "EgYnUuhaFE1e",
        "colab_type": "code",
        "outputId": "61e9ceb0-3234-45c0-e42b-8d1627878246",
        "colab": {
          "base_uri": "https://localhost:8080/",
          "height": 163
        }
      },
      "source": [
        "sent_tokenize(text_string)\n"
      ],
      "execution_count": 0,
      "outputs": [
        {
          "output_type": "error",
          "ename": "NameError",
          "evalue": "ignored",
          "traceback": [
            "\u001b[0;31m---------------------------------------------------------------------------\u001b[0m",
            "\u001b[0;31mNameError\u001b[0m                                 Traceback (most recent call last)",
            "\u001b[0;32m<ipython-input-29-30ad8358dbff>\u001b[0m in \u001b[0;36m<module>\u001b[0;34m()\u001b[0m\n\u001b[0;32m----> 1\u001b[0;31m \u001b[0msent_tokenize\u001b[0m\u001b[0;34m(\u001b[0m\u001b[0mtext_string\u001b[0m\u001b[0;34m)\u001b[0m\u001b[0;34m\u001b[0m\u001b[0;34m\u001b[0m\u001b[0m\n\u001b[0m",
            "\u001b[0;31mNameError\u001b[0m: name 'text_string' is not defined"
          ]
        }
      ]
    },
    {
      "cell_type": "code",
      "metadata": {
        "id": "2Ut6Uw2zFI30",
        "colab_type": "code",
        "colab": {}
      },
      "source": [
        "def _score_sentences(sentences, freqTable) -> dict:\n",
        "    sentenceValue = dict()\n",
        "\n",
        "    for sentence in sentences:\n",
        "        word_count_in_sentence = (len(word_tokenize(sentence)))\n",
        "        for wordValue in freqTable:\n",
        "            if wordValue in sentence.lower():\n",
        "                if sentence[:10] in sentenceValue:\n",
        "                    sentenceValue[sentence[:10]] += freqTable[wordValue]\n",
        "                else:\n",
        "                    sentenceValue[sentence[:10]] = freqTable[wordValue]\n",
        "\n",
        "        sentenceValue[sentence[:10]] = sentenceValue[sentence[:10]] // word_count_in_sentence\n",
        "\n",
        "    return sentenceValue"
      ],
      "execution_count": 0,
      "outputs": []
    },
    {
      "cell_type": "code",
      "metadata": {
        "id": "CbBaNbUvFRhn",
        "colab_type": "code",
        "colab": {}
      },
      "source": [
        "\n",
        "def _find_average_score(sentenceValue) -> int:\n",
        "    sumValues = 0\n",
        "    for entry in sentenceValue:\n",
        "        sumValues += sentenceValue[entry]\n",
        "\n",
        "    # Average value of a sentence from original text\n",
        "    average = int(sumValues / len(sentenceValue))\n",
        "\n",
        "    return average"
      ],
      "execution_count": 0,
      "outputs": []
    },
    {
      "cell_type": "code",
      "metadata": {
        "id": "WG1hTAA8Emmo",
        "colab_type": "code",
        "colab": {}
      },
      "source": [
        "\n",
        "def _generate_summary(sentences, sentenceValue, threshold):\n",
        "    sentence_count = 0\n",
        "    summary = ''\n",
        "\n",
        "    for sentence in sentences:\n",
        "        if sentence[:10] in sentenceValue and sentenceValue[sentence[:10]] > (threshold):\n",
        "            summary += \" \" + sentence\n",
        "            sentence_count += 1\n",
        "\n",
        "    return summary"
      ],
      "execution_count": 0,
      "outputs": []
    },
    {
      "cell_type": "code",
      "metadata": {
        "id": "2ef2ZIllGAn9",
        "colab_type": "code",
        "colab": {}
      },
      "source": [
        "text = \"\"\"President Trump plans to add former independent counsel Ken Starr and the celebrity lawyer Alan Dershowitz to his defense team for  the Senate impeachment trial that gets underway in earnest next week, turning to two veterans of politically charged legal cases to secure his acquittal.\n",
        "\n",
        "Mr. Starr, whose investigation into President Bill Clinton led to his impeachment for perjury and obstruction of justice in 1998, will be joined by Robert W. Ray, his successor as independent counsel who negotiated a final settlement with Mr. Clinton that included a fine and law license suspension, according to a person briefed on the plan.\n",
        "\n",
        "Mr. Dershowitz, a Harvard Law School professor emeritus who became famous as a defense counsel for high-profile defendants like O.J. Simpson, will have a more limited role than the two former independent counsels, presenting oral arguments at the Senate trial “to address the constitutional arguments against impeachment and removal,” the legal team said in a statement.\n",
        "\n",
        "The built-out team, which will be led by the White House counsel, Pat A. Cipollone, and Mr. Trump’s personal lawyer, Jay Sekulow, faces the dual challenge of preserving the president’s support among Republican senators and presenting his case to the wider public watching on television during an election year. As long as Senate Republicans stick with Mr. Trump as expected, his accusers will not be able to muster the two-thirds vote required for conviction.\"\"\""
      ],
      "execution_count": 0,
      "outputs": []
    },
    {
      "cell_type": "code",
      "metadata": {
        "id": "ga9cYIBaKVo5",
        "colab_type": "code",
        "colab": {}
      },
      "source": [
        "text = \"\"\" \n",
        "The Russian government interfered in the 2016 presidential election in sweeping and\n",
        "systematic fashion. Evidence of Russian government operations began to surface in mid-2016. In\n",
        "June, the Democratic National Committee and its cyber response team publicly announced that\n",
        "Russian hackers had compromised its computer network. Releases of hacked materials—hacks\n",
        "that public reporting soon attributed to the Russian government—began that same month.\n",
        "Additional releases followed in July through the organization WikiLeaks, with further releases in\n",
        "October and November.\n",
        "In late July 2016, soon after WikiLeaks’s first release of stolen documents, a foreign\n",
        "government contacted the FBI about a May 2016 encounter with Trump Campaign foreign policy\n",
        "advisor George Papadopoulos. Papadopoulos had suggested to a representative of that foreign\n",
        "government that the Trump Campaign had received indications from the Russian government that\n",
        "it could assist the Campaign through the anonymous release of information damaging to\n",
        "Democratic presidential candidate Hillary Clinton. That information prompted the FBI on July\n",
        "31, 2016, to open an investigation into whether individuals associated with the Trump Campaign\n",
        "were coordinating with the Russian government in its interference activities.\n",
        "That fall, two federal agencies jointly announced that the Russian government “directed\n",
        "recent compromises of e-mails from US persons and institutions, including US political\n",
        "organizations,” and, “hese thefts and disclosures are intended to interfere with the US election\n",
        "process.” After the election, in late December 2016, the United States imposed sanctions on Russia\n",
        "for having interfered in the election. By early 2017, several congressional committees were\n",
        "examining Russia’s interference in the election.\n",
        "Within the Executive Branch, these investigatory efforts ultimately led to the May 2017\n",
        "appointment of Special Counsel Robert S. Mueller, III. The order appointing the Special Counsel\n",
        "authorized him to investigate “the Russian government’s efforts to interfere in the 2016\n",
        "presidential election,” including any links or coordination between the Russian government and\n",
        "individuals associated with the Trump Campaign.\n",
        "As set forth in detail in this report, the Special Counsel’s investigation established that\n",
        "Russia interfered in the 2016 presidential election principally through two operations. First, a\n",
        "Russian entity carried out a social media campaign that favored presidential candidate Donald J.\n",
        "Trump and disparaged presidential candidate Hillary Clinton. Second, a Russian intelligence\n",
        "service conducted computer-intrusion operations against entities, employees, and volunteers\n",
        "working on the Clinton Campaign and then released stolen documents. The investigation also\n",
        "identified numerous links between the Russian government and the Trump Campaign. Although\n",
        "the investigation established that the Russian government perceived it would benefit from a Trump\n",
        "presidency and worked to secure that outcome, and that the Campaign expected it would benefit \"\"\""
      ],
      "execution_count": 0,
      "outputs": []
    },
    {
      "cell_type": "code",
      "metadata": {
        "id": "cTTWLix0Ev-b",
        "colab_type": "code",
        "outputId": "9b761cea-004e-416f-d41d-2631ba376cdd",
        "colab": {
          "base_uri": "https://localhost:8080/",
          "height": 85
        }
      },
      "source": [
        "\n",
        "\n",
        "# 1 Create the word frequency table\n",
        "freq_table = _create_frequency_table(text)\n",
        "\n",
        "'''\n",
        "We already have a sentence tokenizer, so we just need \n",
        "to run the sent_tokenize() method to create the array of sentences.\n",
        "'''\n",
        "\n",
        "# 2 Tokenize the sentences\n",
        "sentences = sent_tokenize(text)\n",
        "\n",
        "# 3 Important Algorithm: score the sentences\n",
        "sentence_scores = _score_sentences(sentences, freq_table)\n",
        "\n",
        "# 4 Find the threshold\n",
        "threshold = _find_average_score(sentence_scores)\n",
        "\n",
        "# 5 Important Algorithm: Generate the summary\n",
        "summary = _generate_summary(sentences, sentence_scores, 1.5 * threshold)\n",
        "\n",
        "print(summary)"
      ],
      "execution_count": 0,
      "outputs": [
        {
          "output_type": "stream",
          "text": [
            "  \n",
            "The Russian government interfered in the 2016 presidential election in sweeping and\n",
            "systematic fashion. Evidence of Russian government operations began to surface in mid-2016. The investigation also\n",
            "identified numerous links between the Russian government and the Trump Campaign.\n"
          ],
          "name": "stdout"
        }
      ]
    }
  ]
}